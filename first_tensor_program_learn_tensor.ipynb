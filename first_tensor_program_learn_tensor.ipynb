{
  "nbformat": 4,
  "nbformat_minor": 0,
  "metadata": {
    "colab": {
      "provenance": [],
      "authorship_tag": "ABX9TyPkbuNVeEQaCDq87AtfLAia",
      "include_colab_link": true
    },
    "kernelspec": {
      "name": "python3",
      "display_name": "Python 3"
    },
    "language_info": {
      "name": "python"
    }
  },
  "cells": [
    {
      "cell_type": "markdown",
      "metadata": {
        "id": "view-in-github",
        "colab_type": "text"
      },
      "source": [
        "<a href=\"https://colab.research.google.com/github/apotato369550/first-tensorflow-program/blob/main/first_tensor_program_learn_tensor.ipynb\" target=\"_parent\"><img src=\"https://colab.research.google.com/assets/colab-badge.svg\" alt=\"Open In Colab\"/></a>"
      ]
    },
    {
      "cell_type": "markdown",
      "source": [
        "# First TensorFlow Program\n"
      ],
      "metadata": {
        "id": "DI-x_zRIclkn"
      }
    },
    {
      "cell_type": "markdown",
      "source": [
        "## Importing TensorFlow"
      ],
      "metadata": {
        "id": "6QxvMFyHhhAC"
      }
    },
    {
      "cell_type": "code",
      "execution_count": null,
      "metadata": {
        "colab": {
          "base_uri": "https://localhost:8080/"
        },
        "id": "624YH677PlcW",
        "outputId": "3d3aa943-312f-4ddd-ee8a-ebc908300e8b"
      },
      "outputs": [
        {
          "output_type": "stream",
          "name": "stdout",
          "text": [
            "<module 'tensorflow._api.v2.version' from '/usr/local/lib/python3.7/dist-packages/tensorflow/_api/v2/version/__init__.py'>\n"
          ]
        }
      ],
      "source": [
        "import tensorflow as tf\n",
        "print(tf.version)"
      ]
    },
    {
      "cell_type": "markdown",
      "source": [
        "## Basic TensorFlow Variables"
      ],
      "metadata": {
        "id": "t1rPMdu4cx4y"
      }
    },
    {
      "cell_type": "code",
      "source": [
        "text = tf.Variable(\"Yo\", tf.string)\n",
        "number = tf.Variable(35, tf.int16)\n",
        "decimal = tf.Variable(4.4, tf.float64)\n",
        "\n",
        "print(text)\n",
        "print(number)\n",
        "print(decimal)"
      ],
      "metadata": {
        "colab": {
          "base_uri": "https://localhost:8080/"
        },
        "id": "WFBMTKpicRI4",
        "outputId": "b39c72ba-54e4-411c-e752-60edd7f13172"
      },
      "execution_count": null,
      "outputs": [
        {
          "output_type": "stream",
          "name": "stdout",
          "text": [
            "<tf.Variable 'Variable:0' shape=() dtype=string, numpy=b'Yo'>\n",
            "<tf.Variable 'Variable:0' shape=() dtype=int32, numpy=35>\n",
            "<tf.Variable 'Variable:0' shape=() dtype=float32, numpy=4.4>\n"
          ]
        }
      ]
    },
    {
      "cell_type": "markdown",
      "source": [
        "\n",
        "\n",
        "## TensorFlow Ranks\n"
      ],
      "metadata": {
        "id": "ygCc0N9xdPGg"
      }
    },
    {
      "cell_type": "code",
      "source": [
        "rank_1_tensor = tf.Variable([\"This is a rank 1 tensor\"], tf.string)\n",
        "rank_2_tensor = tf.Variable([[\"This is a rank 2 tensor\", \"The shape of this tensor is 3\", \"I like cheeseburgers\"], [\"Yep, rank 2 fam\", \"Tensors must have a uniform amount of elements in each array\", \"bees\"]], tf.string)\n",
        "\n",
        "#display tensor ranks\n",
        "print(tf.rank(rank_1_tensor))\n",
        "print(tf.rank(rank_2_tensor))\n",
        "\n",
        "print(rank_2_tensor.shape)"
      ],
      "metadata": {
        "colab": {
          "base_uri": "https://localhost:8080/"
        },
        "id": "sTQ5s8rhc8s1",
        "outputId": "8ade9c82-3723-4bd3-8146-b36095091f49"
      },
      "execution_count": null,
      "outputs": [
        {
          "output_type": "stream",
          "name": "stdout",
          "text": [
            "tf.Tensor(1, shape=(), dtype=int32)\n",
            "tf.Tensor(2, shape=(), dtype=int32)\n",
            "(2, 3)\n"
          ]
        }
      ]
    },
    {
      "cell_type": "markdown",
      "source": [
        "\n",
        "## Changing Tensor Shapes\n",
        "\n",
        "\n"
      ],
      "metadata": {
        "id": "KsqwfhBreYoB"
      }
    },
    {
      "cell_type": "code",
      "source": [
        "# tensor_1 contains populates the lists with 1s. It creates 1 list containing of \n",
        "# 2 other lists, each other list holding 3 elements\n",
        "# [1, 2 ,3]\n",
        "# [[1, 1, 1],[1, 1, 1]]\n",
        "tensor_1 = tf.ones([1, 2, 3])\n",
        "\n",
        "# tensor_2 is a reshaped version of tensor_1. Instead, it has 2 lists containing \n",
        "# 3 other lists, each other list only holding 1 element\n",
        "# [2, 3, 1]\n",
        "# [[1], [1], [1]], [[1], [1], [1]]\n",
        "tensor_2 = tf.reshape(tensor_1, [2, 3, 1])\n",
        "\n",
        "# the third tensor, tensor #3, is a reshaped version of tensor_2. It contains 3 \n",
        "# lists.The -1 indicates that the machine will calculate the size of the \n",
        "# dimension in its place. This will in turn reshape the sensor into 3 lists, \n",
        "# each list containing 2 elements\n",
        "# [3, 2]\n",
        "# [1, 1], [1, 1], [1, 1]\n",
        "tensor_3 = tf.reshape(tensor_2, [3, -1])\n",
        "\n",
        "# parameters for tf.reshape()\n",
        "# tf.reshape(<tensor>, <shape>)\n",
        "# !!! the number of elements in the tensor needs to be equal to the product of\n",
        "# all the elements in the shape\n",
        "# tensor_elements = product_of_shape\n",
        "# 6 elements = [1, 2, 3]\n",
        "# 6 = 1 * 2 * 3\n",
        "# 6 = 6\n",
        "\n",
        "print(tensor_1)\n",
        "print(tensor_2)\n",
        "print(tensor_3)\n"
      ],
      "metadata": {
        "colab": {
          "base_uri": "https://localhost:8080/"
        },
        "id": "TeMgzZRXecvH",
        "outputId": "a4a14aa4-a1ac-4119-aa93-8005007d007b"
      },
      "execution_count": null,
      "outputs": [
        {
          "output_type": "stream",
          "name": "stdout",
          "text": [
            "tf.Tensor(\n",
            "[[[1. 1. 1.]\n",
            "  [1. 1. 1.]]], shape=(1, 2, 3), dtype=float32)\n",
            "tf.Tensor(\n",
            "[[[1.]\n",
            "  [1.]\n",
            "  [1.]]\n",
            "\n",
            " [[1.]\n",
            "  [1.]\n",
            "  [1.]]], shape=(2, 3, 1), dtype=float32)\n",
            "tf.Tensor(\n",
            "[[1. 1.]\n",
            " [1. 1.]\n",
            " [1. 1.]], shape=(3, 2), dtype=float32)\n"
          ]
        }
      ]
    },
    {
      "cell_type": "markdown",
      "source": [
        "## Tensor Variable Types"
      ],
      "metadata": {
        "id": "VmmjYiUEhk9C"
      }
    },
    {
      "cell_type": "code",
      "source": [
        "# There are four types of tensors\n",
        "# Variables - Their value can be changed\n",
        "# Constant, Placeholder, SparseTensor - Their values are immutable"
      ],
      "metadata": {
        "id": "qJx-PgUihoDA"
      },
      "execution_count": null,
      "outputs": []
    },
    {
      "cell_type": "markdown",
      "source": [],
      "metadata": {
        "id": "U7kaCpQckRPV"
      }
    },
    {
      "cell_type": "markdown",
      "source": [
        "## Slicing Tensors\n"
      ],
      "metadata": {
        "id": "B58icaKXkRR6"
      }
    },
    {
      "cell_type": "code",
      "source": [
        "matrix = [[1, 2, 3, 4],\n",
        "          [5, 6, 7, 8],\n",
        "          [9, 10, 11, 12],\n",
        "          [13, 14, 15, 16]]\n",
        "\n",
        "bigger_matrix = [[1, 2, 3, 4, 5, 6],\n",
        "                 [7, 8, 9, 10, 11, 12],\n",
        "                 [13, 14, 15, 16, 17, 18],\n",
        "                 [19, 20, 21, 22, 23, 24],\n",
        "                 [25, 26, 27, 28, 29, 30],\n",
        "                 [31, 32, 33, 34, 35, 36]]\n",
        "\n",
        "matrix_tensor = tf.Variable(matrix, tf.int32)\n",
        "bigger_matrix_tensor = tf.Variable(bigger_matrix, tf.int32)\n",
        "\n",
        "three = matrix_tensor[0, 2]\n",
        "\n",
        "row_1 = matrix_tensor[0]\n",
        "\n",
        "column_1 = matrix_tensor[:, 0]\n",
        "\n",
        "# select every second row [2] starting from row 2 [1] = [1::2]\n",
        "rows_2_and_4 = matrix_tensor[1::2]\n",
        "rows_1_3_and_5 = bigger_matrix_tensor[0::2]\n",
        "\n",
        "column_1_in_row_2_and_3 = matrix_tensor[1:3, 0]\n",
        "\n",
        "print(three)\n",
        "print(row_1)\n",
        "print(column_1)\n",
        "print(rows_2_and_4)\n",
        "print(rows_1_3_and_5)\n",
        "print(column_1_in_row_2_and_3)\n"
      ],
      "metadata": {
        "colab": {
          "base_uri": "https://localhost:8080/"
        },
        "id": "z3h2xoImkU4t",
        "outputId": "103c17c1-35b4-4684-bf00-f7b424fcf009"
      },
      "execution_count": null,
      "outputs": [
        {
          "output_type": "stream",
          "name": "stdout",
          "text": [
            "tf.Tensor(3, shape=(), dtype=int32)\n",
            "tf.Tensor([1 2 3 4], shape=(4,), dtype=int32)\n",
            "tf.Tensor([ 1  5  9 13], shape=(4,), dtype=int32)\n",
            "tf.Tensor(\n",
            "[[ 5  6  7  8]\n",
            " [13 14 15 16]], shape=(2, 4), dtype=int32)\n",
            "tf.Tensor(\n",
            "[[ 1  2  3  4  5  6]\n",
            " [13 14 15 16 17 18]\n",
            " [25 26 27 28 29 30]], shape=(3, 6), dtype=int32)\n",
            "tf.Tensor([5 9], shape=(2,), dtype=int32)\n"
          ]
        }
      ]
    }
  ]
}